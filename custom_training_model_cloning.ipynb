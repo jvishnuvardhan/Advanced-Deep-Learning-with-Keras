{
  "nbformat": 4,
  "nbformat_minor": 0,
  "metadata": {
    "colab": {
      "name": "36694.ipynb",
      "provenance": [],
      "include_colab_link": true
    },
    "kernelspec": {
      "name": "python3",
      "display_name": "Python 3"
    }
  },
  "cells": [
    {
      "cell_type": "markdown",
      "metadata": {
        "id": "view-in-github",
        "colab_type": "text"
      },
      "source": [
        "<a href=\"https://colab.research.google.com/github/jvishnuvardhan/Advanced-Deep-Learning-with-Keras/blob/master/custom_training_model_cloning.ipynb\" target=\"_parent\"><img src=\"https://colab.research.google.com/assets/colab-badge.svg\" alt=\"Open In Colab\"/></a>"
      ]
    },
    {
      "cell_type": "code",
      "metadata": {
        "id": "k-CC-ObTONgE",
        "colab_type": "code",
        "outputId": "650864ad-745c-4303-c16b-bb0c969f1f16",
        "colab": {
          "base_uri": "https://localhost:8080/",
          "height": 632
        }
      },
      "source": [
        "!pip install tensorflow==2.2-rc2"
      ],
      "execution_count": 7,
      "outputs": [
        {
          "output_type": "stream",
          "text": [
            "Requirement already satisfied: tensorflow==2.2-rc2 in /usr/local/lib/python3.6/dist-packages (2.2.0rc2)\n",
            "Requirement already satisfied: numpy<2.0,>=1.16.0 in /usr/local/lib/python3.6/dist-packages (from tensorflow==2.2-rc2) (1.18.2)\n",
            "Requirement already satisfied: absl-py>=0.7.0 in /usr/local/lib/python3.6/dist-packages (from tensorflow==2.2-rc2) (0.9.0)\n",
            "Requirement already satisfied: h5py<2.11.0,>=2.10.0 in /usr/local/lib/python3.6/dist-packages (from tensorflow==2.2-rc2) (2.10.0)\n",
            "Requirement already satisfied: opt-einsum>=2.3.2 in /usr/local/lib/python3.6/dist-packages (from tensorflow==2.2-rc2) (3.2.0)\n",
            "Requirement already satisfied: termcolor>=1.1.0 in /usr/local/lib/python3.6/dist-packages (from tensorflow==2.2-rc2) (1.1.0)\n",
            "Requirement already satisfied: protobuf>=3.8.0 in /usr/local/lib/python3.6/dist-packages (from tensorflow==2.2-rc2) (3.10.0)\n",
            "Requirement already satisfied: astunparse==1.6.3 in /usr/local/lib/python3.6/dist-packages (from tensorflow==2.2-rc2) (1.6.3)\n",
            "Requirement already satisfied: six>=1.12.0 in /usr/local/lib/python3.6/dist-packages (from tensorflow==2.2-rc2) (1.12.0)\n",
            "Requirement already satisfied: gast==0.3.3 in /usr/local/lib/python3.6/dist-packages (from tensorflow==2.2-rc2) (0.3.3)\n",
            "Requirement already satisfied: wheel>=0.26; python_version >= \"3\" in /usr/local/lib/python3.6/dist-packages (from tensorflow==2.2-rc2) (0.34.2)\n",
            "Requirement already satisfied: scipy==1.4.1; python_version >= \"3\" in /usr/local/lib/python3.6/dist-packages (from tensorflow==2.2-rc2) (1.4.1)\n",
            "Requirement already satisfied: wrapt>=1.11.1 in /usr/local/lib/python3.6/dist-packages (from tensorflow==2.2-rc2) (1.12.1)\n",
            "Requirement already satisfied: grpcio>=1.8.6 in /usr/local/lib/python3.6/dist-packages (from tensorflow==2.2-rc2) (1.27.2)\n",
            "Requirement already satisfied: google-pasta>=0.1.8 in /usr/local/lib/python3.6/dist-packages (from tensorflow==2.2-rc2) (0.2.0)\n",
            "Requirement already satisfied: keras-preprocessing>=1.1.0 in /usr/local/lib/python3.6/dist-packages (from tensorflow==2.2-rc2) (1.1.0)\n",
            "Requirement already satisfied: tensorflow-estimator<2.3.0,>=2.2.0rc0 in /usr/local/lib/python3.6/dist-packages (from tensorflow==2.2-rc2) (2.2.0rc0)\n",
            "Requirement already satisfied: tensorboard<2.3.0,>=2.2.0 in /usr/local/lib/python3.6/dist-packages (from tensorflow==2.2-rc2) (2.2.0)\n",
            "Requirement already satisfied: setuptools in /usr/local/lib/python3.6/dist-packages (from protobuf>=3.8.0->tensorflow==2.2-rc2) (46.0.0)\n",
            "Requirement already satisfied: tensorboard-plugin-wit>=1.6.0 in /usr/local/lib/python3.6/dist-packages (from tensorboard<2.3.0,>=2.2.0->tensorflow==2.2-rc2) (1.6.0.post2)\n",
            "Requirement already satisfied: werkzeug>=0.11.15 in /usr/local/lib/python3.6/dist-packages (from tensorboard<2.3.0,>=2.2.0->tensorflow==2.2-rc2) (1.0.1)\n",
            "Requirement already satisfied: markdown>=2.6.8 in /usr/local/lib/python3.6/dist-packages (from tensorboard<2.3.0,>=2.2.0->tensorflow==2.2-rc2) (3.2.1)\n",
            "Requirement already satisfied: google-auth<2,>=1.6.3 in /usr/local/lib/python3.6/dist-packages (from tensorboard<2.3.0,>=2.2.0->tensorflow==2.2-rc2) (1.7.2)\n",
            "Requirement already satisfied: google-auth-oauthlib<0.5,>=0.4.1 in /usr/local/lib/python3.6/dist-packages (from tensorboard<2.3.0,>=2.2.0->tensorflow==2.2-rc2) (0.4.1)\n",
            "Requirement already satisfied: requests<3,>=2.21.0 in /usr/local/lib/python3.6/dist-packages (from tensorboard<2.3.0,>=2.2.0->tensorflow==2.2-rc2) (2.21.0)\n",
            "Requirement already satisfied: cachetools<3.2,>=2.0.0 in /usr/local/lib/python3.6/dist-packages (from google-auth<2,>=1.6.3->tensorboard<2.3.0,>=2.2.0->tensorflow==2.2-rc2) (3.1.1)\n",
            "Requirement already satisfied: pyasn1-modules>=0.2.1 in /usr/local/lib/python3.6/dist-packages (from google-auth<2,>=1.6.3->tensorboard<2.3.0,>=2.2.0->tensorflow==2.2-rc2) (0.2.8)\n",
            "Requirement already satisfied: rsa<4.1,>=3.1.4 in /usr/local/lib/python3.6/dist-packages (from google-auth<2,>=1.6.3->tensorboard<2.3.0,>=2.2.0->tensorflow==2.2-rc2) (4.0)\n",
            "Requirement already satisfied: requests-oauthlib>=0.7.0 in /usr/local/lib/python3.6/dist-packages (from google-auth-oauthlib<0.5,>=0.4.1->tensorboard<2.3.0,>=2.2.0->tensorflow==2.2-rc2) (1.3.0)\n",
            "Requirement already satisfied: idna<2.9,>=2.5 in /usr/local/lib/python3.6/dist-packages (from requests<3,>=2.21.0->tensorboard<2.3.0,>=2.2.0->tensorflow==2.2-rc2) (2.8)\n",
            "Requirement already satisfied: urllib3<1.25,>=1.21.1 in /usr/local/lib/python3.6/dist-packages (from requests<3,>=2.21.0->tensorboard<2.3.0,>=2.2.0->tensorflow==2.2-rc2) (1.24.3)\n",
            "Requirement already satisfied: chardet<3.1.0,>=3.0.2 in /usr/local/lib/python3.6/dist-packages (from requests<3,>=2.21.0->tensorboard<2.3.0,>=2.2.0->tensorflow==2.2-rc2) (3.0.4)\n",
            "Requirement already satisfied: certifi>=2017.4.17 in /usr/local/lib/python3.6/dist-packages (from requests<3,>=2.21.0->tensorboard<2.3.0,>=2.2.0->tensorflow==2.2-rc2) (2019.11.28)\n",
            "Requirement already satisfied: pyasn1<0.5.0,>=0.4.6 in /usr/local/lib/python3.6/dist-packages (from pyasn1-modules>=0.2.1->google-auth<2,>=1.6.3->tensorboard<2.3.0,>=2.2.0->tensorflow==2.2-rc2) (0.4.8)\n",
            "Requirement already satisfied: oauthlib>=3.0.0 in /usr/local/lib/python3.6/dist-packages (from requests-oauthlib>=0.7.0->google-auth-oauthlib<0.5,>=0.4.1->tensorboard<2.3.0,>=2.2.0->tensorflow==2.2-rc2) (3.1.0)\n"
          ],
          "name": "stdout"
        }
      ]
    },
    {
      "cell_type": "code",
      "metadata": {
        "id": "kfWw95jrORcL",
        "colab_type": "code",
        "outputId": "f9908c30-d83f-4206-a807-42c50eacfd2e",
        "colab": {
          "base_uri": "https://localhost:8080/",
          "height": 34
        }
      },
      "source": [
        "import tensorflow as tf \n",
        "tf.__version__"
      ],
      "execution_count": 8,
      "outputs": [
        {
          "output_type": "execute_result",
          "data": {
            "text/plain": [
              "'2.2.0-rc2'"
            ]
          },
          "metadata": {
            "tags": []
          },
          "execution_count": 8
        }
      ]
    },
    {
      "cell_type": "code",
      "metadata": {
        "id": "EmGKAvY7OZ2I",
        "colab_type": "code",
        "outputId": "797ca4d3-a57a-4a7c-e098-90ea22a4e626",
        "colab": {
          "base_uri": "https://localhost:8080/",
          "height": 272
        }
      },
      "source": [
        "import tensorflow as tf\n",
        "#tf.enable_eager_execution()\n",
        "tf.keras.backend.set_floatx(\"float64\")\n",
        "import numpy as np\n",
        "import tensorflow.keras.backend as K\n",
        "from tensorflow.keras import Model\n",
        "from tensorflow.keras.layers import Input, Dense\n",
        "from tensorflow.keras.losses import binary_crossentropy\n",
        "\n",
        "\n",
        "# Input layer, one hidden layer\n",
        "input_layer = Input(batch_shape=(None, 20))\n",
        "dense_1 = Dense(1028)(input_layer)\n",
        "output_2 = Dense(1, activation=\"sigmoid\")(dense_1)\n",
        "model = Model(inputs=input_layer, outputs= output_2)\n",
        "print(model.summary())\n",
        "def custom_loss2(output2, label2):\n",
        "    loss_value = K.mean(binary_crossentropy(label2, output2)) \n",
        "    return loss_value\n",
        "def EWC_loss(new_weights, old_weights, fisher_matrix, rate):\n",
        "    sum_w = 0\n",
        "    for v in range(len(fisher_matrix)):\n",
        "        sum_w += tf.reduce_sum(tf.multiply(fisher_matrix[v], tf.square(new_weights[v] - old_weights[v]))) \n",
        "    return sum_w*rate"
      ],
      "execution_count": 9,
      "outputs": [
        {
          "output_type": "stream",
          "text": [
            "Model: \"model_1\"\n",
            "_________________________________________________________________\n",
            "Layer (type)                 Output Shape              Param #   \n",
            "=================================================================\n",
            "input_2 (InputLayer)         [(None, 20)]              0         \n",
            "_________________________________________________________________\n",
            "dense_2 (Dense)              (None, 1028)              21588     \n",
            "_________________________________________________________________\n",
            "dense_3 (Dense)              (None, 1)                 1029      \n",
            "=================================================================\n",
            "Total params: 22,617\n",
            "Trainable params: 22,617\n",
            "Non-trainable params: 0\n",
            "_________________________________________________________________\n",
            "None\n"
          ],
          "name": "stdout"
        }
      ]
    },
    {
      "cell_type": "code",
      "metadata": {
        "id": "JWg0pps4OgLZ",
        "colab_type": "code",
        "colab": {}
      },
      "source": [
        "n_sample = 1000\n",
        "fix = np.array([range(n_sample),]*20).transpose()\n",
        "features = np.cos(fix + np.random.rand(n_sample,20))\n",
        "labels_2 = np.cos(np.array([range(n_sample),]*1).transpose() + np.random.rand(n_sample,1))\n",
        "labels_2 = np.array([labels_2>=0]).astype(float).reshape(len(labels_2),1)"
      ],
      "execution_count": 0,
      "outputs": []
    },
    {
      "cell_type": "code",
      "metadata": {
        "id": "pGwQxp9mOoxt",
        "colab_type": "code",
        "outputId": "3bcc935e-249a-4cf4-90f5-c3a4b879e6c3",
        "colab": {
          "base_uri": "https://localhost:8080/",
          "height": 357
        }
      },
      "source": [
        "#del optimizer\n",
        "#del tape\n",
        "num_epochs = 1000\n",
        "optimizer = tf.keras.optimizers.SGD()\n",
        "ewc_model = tf.keras.models.clone_model(model)\n",
        "ewc_model.set_weights(model.get_weights()) # add this line to use exactly same weights\n",
        "old_weights = model.trainable_variables.copy()\n",
        "fisher_matrix = old_weights\n",
        "for epoch in range(num_epochs):\n",
        "    with tf.GradientTape() as tape:\n",
        "        out = ewc_model(features)\n",
        "        new_weights = ewc_model.trainable_variables.copy()\n",
        "        ewc_loss = EWC_loss(new_weights, old_weights, fisher_matrix, 0.5)\n",
        "        loss = ewc_loss + custom_loss2(labels_2, out)\n",
        "        grad = tape.gradient(loss, ewc_model.trainable_variables)\n",
        "        optimizer.apply_gradients(grads_and_vars=zip(grad, ewc_model.trainable_variables))\n",
        "    if (epoch+1)%100 == 0:\n",
        "        print(\"epch: {}, loss: {}\".format(epoch, loss.numpy()))\n",
        "        print(ewc_loss.numpy(), loss.numpy())"
      ],
      "execution_count": 11,
      "outputs": [
        {
          "output_type": "stream",
          "text": [
            "epch: 99, loss: 1.2475948295218897\n",
            "-0.002393169600546847 1.2475948295218897\n",
            "epch: 199, loss: 1.1811368401223423\n",
            "-0.0068271250011793065 1.1811368401223423\n",
            "epch: 299, loss: 1.145449661763205\n",
            "-0.012639246403220715 1.145449661763205\n",
            "epch: 399, loss: 1.118805455672477\n",
            "-0.019696919448428583 1.118805455672477\n",
            "epch: 499, loss: 1.0958003083925993\n",
            "-0.02797807437857744 1.0958003083925993\n",
            "epch: 599, loss: 1.074304706440945\n",
            "-0.03751690775620519 1.074304706440945\n",
            "epch: 699, loss: 1.0532353922466104\n",
            "-0.04838604792113444 1.0532353922466104\n",
            "epch: 799, loss: 1.0319290881777619\n",
            "-0.060689650699999015 1.0319290881777619\n",
            "epch: 899, loss: 1.0099128086305043\n",
            "-0.07456105269238739 1.0099128086305043\n",
            "epch: 999, loss: 0.9868029803402413\n",
            "-0.09016282149003818 0.9868029803402413\n"
          ],
          "name": "stdout"
        }
      ]
    },
    {
      "cell_type": "code",
      "metadata": {
        "id": "8_7N_MgcOsJj",
        "colab_type": "code",
        "outputId": "a20ad623-7f62-4679-d1ce-1e57768c201c",
        "colab": {
          "base_uri": "https://localhost:8080/",
          "height": 357
        }
      },
      "source": [
        "del optimizer\n",
        "del tape\n",
        "num_epochs = 1000\n",
        "optimizer = tf.keras.optimizers.SGD()\n",
        "ewc_model = tf.keras.models.clone_model(model) \n",
        "ewc_model.set_weights(model.get_weights()) # add this line to use exactly same weights\n",
        "old_weights = model.trainable_variables.copy()\n",
        "for epoch in range(num_epochs):\n",
        "    with tf.GradientTape() as tape:\n",
        "        out = ewc_model(features)\n",
        "        new_weights = ewc_model.trainable_variables.copy()\n",
        "        ewc_loss = 0.5*EWC_loss(new_weights, old_weights, fisher_matrix, 1.0)\n",
        "        loss = ewc_loss + custom_loss2(labels_2, out)\n",
        "        grad = tape.gradient(loss, ewc_model.trainable_variables)\n",
        "        optimizer.apply_gradients(grads_and_vars=zip(grad, ewc_model.trainable_variables))\n",
        "    if (epoch+1)%100 == 0:\n",
        "        print(\"epch: {}, loss: {}\".format(epoch, loss.numpy()))\n",
        "        print(ewc_loss.numpy(), loss.numpy())"
      ],
      "execution_count": 12,
      "outputs": [
        {
          "output_type": "stream",
          "text": [
            "epch: 99, loss: 1.2475948295218897\n",
            "-0.002393169600546847 1.2475948295218897\n",
            "epch: 199, loss: 1.1811368401223423\n",
            "-0.0068271250011793065 1.1811368401223423\n",
            "epch: 299, loss: 1.145449661763205\n",
            "-0.012639246403220715 1.145449661763205\n",
            "epch: 399, loss: 1.118805455672477\n",
            "-0.019696919448428583 1.118805455672477\n",
            "epch: 499, loss: 1.0958003083925993\n",
            "-0.02797807437857744 1.0958003083925993\n",
            "epch: 599, loss: 1.074304706440945\n",
            "-0.03751690775620519 1.074304706440945\n",
            "epch: 699, loss: 1.0532353922466104\n",
            "-0.04838604792113444 1.0532353922466104\n",
            "epch: 799, loss: 1.0319290881777619\n",
            "-0.060689650699999015 1.0319290881777619\n",
            "epch: 899, loss: 1.0099128086305043\n",
            "-0.07456105269238739 1.0099128086305043\n",
            "epch: 999, loss: 0.9868029803402413\n",
            "-0.09016282149003818 0.9868029803402413\n"
          ],
          "name": "stdout"
        }
      ]
    },
    {
      "cell_type": "code",
      "metadata": {
        "id": "xOIuQK-rO0IR",
        "colab_type": "code",
        "colab": {}
      },
      "source": [
        ""
      ],
      "execution_count": 0,
      "outputs": []
    }
  ]
}